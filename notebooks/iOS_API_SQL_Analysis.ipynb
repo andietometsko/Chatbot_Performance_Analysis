{
 "cells": [
  {
   "cell_type": "code",
   "execution_count": 17,
   "id": "251bbf97",
   "metadata": {},
   "outputs": [
    {
     "data": {
      "text/plain": [
       "True"
      ]
     },
     "execution_count": 17,
     "metadata": {},
     "output_type": "execute_result"
    }
   ],
   "source": [
    "# Importing essential libraries\n",
    "import os\n",
    "import pandas as pd\n",
    "from sqlalchemy import create_engine\n",
    "from dotenv import load_dotenv\n",
    "\n",
    "# Load environment variables for secure database connection\n",
    "load_dotenv()\n"
   ]
  },
  {
   "cell_type": "code",
   "execution_count": 18,
   "id": "c52b5dcf",
   "metadata": {},
   "outputs": [
    {
     "name": "stdout",
     "output_type": "stream",
     "text": [
      "Successfully connected to PostgreSQL using SQLAlchemy engine\n"
     ]
    }
   ],
   "source": [
    "# Load database credentials from environment variables\n",
    "user = os.getenv(\"DB_USER\")\n",
    "password = os.getenv(\"DB_PASSWORD\")\n",
    "host = os.getenv(\"DB_HOST\")\n",
    "port = os.getenv(\"DB_PORT\")\n",
    "database = os.getenv(\"DB_NAME\")\n",
    "\n",
    "# Create the SQLAlchemy engine\n",
    "connection_string = f'postgresql+psycopg2://{user}:{password}@{host}:{port}/{database}'\n",
    "engine = create_engine(connection_string)\n",
    "print(\"Successfully connected to PostgreSQL using SQLAlchemy engine\")\n"
   ]
  },
  {
   "cell_type": "code",
   "execution_count": 19,
   "id": "f5f7ddc1",
   "metadata": {},
   "outputs": [
    {
     "name": "stdout",
     "output_type": "stream",
     "text": [
      "Successfully loaded iOS API data\n"
     ]
    },
    {
     "data": {
      "text/html": [
       "<div>\n",
       "<style scoped>\n",
       "    .dataframe tbody tr th:only-of-type {\n",
       "        vertical-align: middle;\n",
       "    }\n",
       "\n",
       "    .dataframe tbody tr th {\n",
       "        vertical-align: top;\n",
       "    }\n",
       "\n",
       "    .dataframe thead th {\n",
       "        text-align: right;\n",
       "    }\n",
       "</style>\n",
       "<table border=\"1\" class=\"dataframe\">\n",
       "  <thead>\n",
       "    <tr style=\"text-align: right;\">\n",
       "      <th></th>\n",
       "      <th>app_name</th>\n",
       "      <th>app_store_url</th>\n",
       "      <th>description</th>\n",
       "      <th>ratingValue</th>\n",
       "      <th>reviewCount</th>\n",
       "      <th>category</th>\n",
       "    </tr>\n",
       "  </thead>\n",
       "  <tbody>\n",
       "    <tr>\n",
       "      <th>0</th>\n",
       "      <td>ChatGPT</td>\n",
       "      <td>https://apps.apple.com/us/app/chatgpt/id644831...</td>\n",
       "      <td>Introducing ChatGPT for iOS: OpenAI’s latest a...</td>\n",
       "      <td>4.9</td>\n",
       "      <td>2390387</td>\n",
       "      <td>free</td>\n",
       "    </tr>\n",
       "    <tr>\n",
       "      <th>1</th>\n",
       "      <td>Chatbot AI Assistant - Genie</td>\n",
       "      <td>https://apps.apple.com/us/app/chatbot-ai-assis...</td>\n",
       "      <td>Genie is a revolutionary AI chatbot assistant ...</td>\n",
       "      <td>4.7</td>\n",
       "      <td>183014</td>\n",
       "      <td>free</td>\n",
       "    </tr>\n",
       "    <tr>\n",
       "      <th>2</th>\n",
       "      <td>AI Chatbot - Nova</td>\n",
       "      <td>https://apps.apple.com/us/app/ai-chatbot-nova/...</td>\n",
       "      <td>Nova is a revolutionary AI chatbot and persona...</td>\n",
       "      <td>4.7</td>\n",
       "      <td>91167</td>\n",
       "      <td>free</td>\n",
       "    </tr>\n",
       "    <tr>\n",
       "      <th>3</th>\n",
       "      <td>AI Chat Assistant Ð ChatNow</td>\n",
       "      <td>https://apps.apple.com/us/app/ai-chat-assistan...</td>\n",
       "      <td>ChatNow — Your All-in-One AI Assistant\\n\\nWelc...</td>\n",
       "      <td>4.9</td>\n",
       "      <td>78</td>\n",
       "      <td>free</td>\n",
       "    </tr>\n",
       "    <tr>\n",
       "      <th>4</th>\n",
       "      <td>AI Chatbot_</td>\n",
       "      <td>https://apps.apple.com/us/app/ai-chatbot/id644...</td>\n",
       "      <td>Welcome to AI Chatbot ChatPlus powered by GPT-...</td>\n",
       "      <td>4.8</td>\n",
       "      <td>865</td>\n",
       "      <td>free</td>\n",
       "    </tr>\n",
       "  </tbody>\n",
       "</table>\n",
       "</div>"
      ],
      "text/plain": [
       "                       app_name  \\\n",
       "0                       ChatGPT   \n",
       "1  Chatbot AI Assistant - Genie   \n",
       "2             AI Chatbot - Nova   \n",
       "3   AI Chat Assistant Ð ChatNow   \n",
       "4                   AI Chatbot_   \n",
       "\n",
       "                                       app_store_url  \\\n",
       "0  https://apps.apple.com/us/app/chatgpt/id644831...   \n",
       "1  https://apps.apple.com/us/app/chatbot-ai-assis...   \n",
       "2  https://apps.apple.com/us/app/ai-chatbot-nova/...   \n",
       "3  https://apps.apple.com/us/app/ai-chat-assistan...   \n",
       "4  https://apps.apple.com/us/app/ai-chatbot/id644...   \n",
       "\n",
       "                                         description  ratingValue  \\\n",
       "0  Introducing ChatGPT for iOS: OpenAI’s latest a...          4.9   \n",
       "1  Genie is a revolutionary AI chatbot assistant ...          4.7   \n",
       "2  Nova is a revolutionary AI chatbot and persona...          4.7   \n",
       "3  ChatNow — Your All-in-One AI Assistant\\n\\nWelc...          4.9   \n",
       "4  Welcome to AI Chatbot ChatPlus powered by GPT-...          4.8   \n",
       "\n",
       "   reviewCount category  \n",
       "0      2390387     free  \n",
       "1       183014     free  \n",
       "2        91167     free  \n",
       "3           78     free  \n",
       "4          865     free  "
      ]
     },
     "execution_count": 19,
     "metadata": {},
     "output_type": "execute_result"
    }
   ],
   "source": [
    "# Define the file path (adjust if necessary)\n",
    "file_path = '../data/Chatbot_iOS_Apps.csv'  # Adjust the path if needed\n",
    "\n",
    "# Confirm that the file can be loaded\n",
    "df_ios = pd.read_csv(file_path)\n",
    "print(\"Successfully loaded iOS API data\")\n",
    "df_ios.head()\n"
   ]
  },
  {
   "cell_type": "markdown",
   "id": "f89be365",
   "metadata": {},
   "source": [
    "## Business Question\n",
    "**Which iOS chatbots have the highest average rating, and which are the most popular based on the number of user reviews?**"
   ]
  },
  {
   "cell_type": "code",
   "execution_count": 20,
   "id": "9b7bd68a",
   "metadata": {},
   "outputs": [
    {
     "name": "stdout",
     "output_type": "stream",
     "text": [
      "Descriptive Query executed successfully\n"
     ]
    }
   ],
   "source": [
    "# Defining the descriptive analytics query with the correct table name\n",
    "sql_query_descriptive = '''\n",
    "SELECT \n",
    "    \"app_name\",\n",
    "    AVG(\"ratingValue\") AS avg_rating,\n",
    "    SUM(\"reviewCount\") AS total_reviews\n",
    "FROM \n",
    "    \"Chatbot iOS Apps\"  \n",
    "GROUP BY \n",
    "    \"app_name\"\n",
    "ORDER BY \n",
    "    avg_rating DESC;\n",
    "'''\n",
    "\n",
    "# Running the descriptive query\n",
    "try:\n",
    "    df_descriptive = pd.read_sql(sql_query_descriptive, con=engine)\n",
    "    print(\"Descriptive Query executed successfully\")\n",
    "    pd.set_option('display.max_rows', None)\n",
    "    df_descriptive.head()\n",
    "except Exception as e:\n",
    "    print(f\"Query failed: {e}\")"
   ]
  },
  {
   "cell_type": "code",
   "execution_count": 21,
   "id": "a5da4fee",
   "metadata": {},
   "outputs": [
    {
     "name": "stdout",
     "output_type": "stream",
     "text": [
      "Descriptive Analysis results saved to PostgreSQL table: ios_chatbot_descriptive_analysis\n"
     ]
    }
   ],
   "source": [
    "# Save the descriptive analysis results as a PostgreSQL table\n",
    "try:\n",
    "    df_descriptive.to_sql(\n",
    "        'ios_chatbot_descriptive_analysis',  # Table name\n",
    "        con=engine,\n",
    "        if_exists='replace',  # Replace the table if it already exists\n",
    "        index=False           # Do not save the index column\n",
    "    )\n",
    "    print(\"Descriptive Analysis results saved to PostgreSQL table: ios_chatbot_descriptive_analysis\")\n",
    "except Exception as e:\n",
    "    print(f\"Failed to save the table: {e}\")\n"
   ]
  },
  {
   "cell_type": "code",
   "execution_count": 22,
   "id": "e4fe9ae3",
   "metadata": {},
   "outputs": [
    {
     "name": "stdout",
     "output_type": "stream",
     "text": [
      "Available Tables in Database:\n",
      "                          table_name\n",
      "0                   Chatbot iOS Apps\n",
      "1   ios_chatbot_descriptive_analysis\n",
      "2                chatbot_performance\n",
      "3       chatbot_descriptive_analysis\n",
      "4  13 Best Free and Paid AI Chatbots\n",
      "5        chatbot_diagnostic_analysis\n"
     ]
    }
   ],
   "source": [
    "# List all tables in your PostgreSQL database\n",
    "table_check_query = '''\n",
    "SELECT table_name \n",
    "FROM information_schema.tables \n",
    "WHERE table_schema = 'public';\n",
    "'''\n",
    "\n",
    "tables = pd.read_sql(table_check_query, engine)\n",
    "print(\"Available Tables in Database:\")\n",
    "print(tables)\n"
   ]
  },
  {
   "cell_type": "code",
   "execution_count": 23,
   "id": "2cab90d3",
   "metadata": {},
   "outputs": [
    {
     "data": {
      "text/html": [
       "<div>\n",
       "<style scoped>\n",
       "    .dataframe tbody tr th:only-of-type {\n",
       "        vertical-align: middle;\n",
       "    }\n",
       "\n",
       "    .dataframe tbody tr th {\n",
       "        vertical-align: top;\n",
       "    }\n",
       "\n",
       "    .dataframe thead th {\n",
       "        text-align: right;\n",
       "    }\n",
       "</style>\n",
       "<table border=\"1\" class=\"dataframe\">\n",
       "  <thead>\n",
       "    <tr style=\"text-align: right;\">\n",
       "      <th></th>\n",
       "      <th>app_name</th>\n",
       "      <th>avg_rating</th>\n",
       "      <th>total_reviews</th>\n",
       "    </tr>\n",
       "  </thead>\n",
       "  <tbody>\n",
       "    <tr>\n",
       "      <th>0</th>\n",
       "      <td>Ask GPT -4: Advance GPT AI Chat</td>\n",
       "      <td>5.0</td>\n",
       "      <td>4.0</td>\n",
       "    </tr>\n",
       "    <tr>\n",
       "      <th>1</th>\n",
       "      <td>ChatGPT</td>\n",
       "      <td>4.9</td>\n",
       "      <td>2390387.0</td>\n",
       "    </tr>\n",
       "    <tr>\n",
       "      <th>2</th>\n",
       "      <td>Perplexity - Ask Anything</td>\n",
       "      <td>4.9</td>\n",
       "      <td>169266.0</td>\n",
       "    </tr>\n",
       "    <tr>\n",
       "      <th>3</th>\n",
       "      <td>AI Chat Assistant Ð ChatNow</td>\n",
       "      <td>4.9</td>\n",
       "      <td>78.0</td>\n",
       "    </tr>\n",
       "    <tr>\n",
       "      <th>4</th>\n",
       "      <td>Grok by xAI</td>\n",
       "      <td>4.9</td>\n",
       "      <td>309764.0</td>\n",
       "    </tr>\n",
       "  </tbody>\n",
       "</table>\n",
       "</div>"
      ],
      "text/plain": [
       "                          app_name  avg_rating  total_reviews\n",
       "0  Ask GPT -4: Advance GPT AI Chat         5.0            4.0\n",
       "1                          ChatGPT         4.9      2390387.0\n",
       "2        Perplexity - Ask Anything         4.9       169266.0\n",
       "3      AI Chat Assistant Ð ChatNow         4.9           78.0\n",
       "4                      Grok by xAI         4.9       309764.0"
      ]
     },
     "execution_count": 23,
     "metadata": {},
     "output_type": "execute_result"
    }
   ],
   "source": [
    "# Displaying the saved descriptive analysis table\n",
    "sql_query_display = '''\n",
    "SELECT * \n",
    "FROM ios_chatbot_descriptive_analysis;\n",
    "'''\n",
    "\n",
    "# Loading the table into a DataFrame\n",
    "df_display = pd.read_sql(sql_query_display, con=engine)\n",
    "pd.set_option('display.max_rows', None)\n",
    "df_display.head()\n"
   ]
  },
  {
   "cell_type": "markdown",
   "id": "f6ef9231",
   "metadata": {},
   "source": [
    "\n",
    "## Insight\n",
    "- The analysis shows that while several chatbots have high average ratings (4.8 - 5.0), the most popular chatbots are distinguished by their high number of user reviews.\n",
    "- For example, ChatGPT has one of the highest ratings (4.9) and also the highest number of reviews (over 2.3 million), indicating it is both highly rated and widely used.\n",
    "- Other chatbots, such as Perplexity - Ask Anything and AI Chat Assistant Ð ChatNow, also maintain high ratings (4.9) with substantial user bases.\n",
    "- Conversely, some chatbots like Ask GPT -4: Advance GPT AI Chat have a perfect rating (5.0) but very few reviews, which suggests these ratings may not be reliable due to a lack of user feedback.\n",
    "- The analysis reveals that a high average rating alone is not enough — popularity (measured by review count) is a strong indicator of trust and widespread use.\n",
    "\n",
    "\n",
    "## Recommendation\n",
    "- For companies looking to integrate a chatbot into their platforms:\n",
    "  - Prioritize chatbots with a combination of high ratings and high user reviews. These are the most tested and reliable.\n",
    "  - If user satisfaction is the priority, focus on chatbots with consistently high ratings, even if they have fewer reviews.\n",
    "  - Consider testing chatbots like ChatGPT, Perplexity, and AI Chat Assistant Ð ChatNow, which balances high ratings with large user bases.\n",
    "  - For emerging chatbots with high ratings but low reviews, monitor their growth to see if they maintain positive feedback as more users adopt them.\n",
    "\n",
    "## Prediction\n",
    "- Chatbots with high average ratings and a high number of user reviews will continue to dominate the market, as they demonstrate both user satisfaction and widespread adoption.\n",
    "- Chatbots with very high ratings but low review counts may see their ratings drop as more users provide feedback, revealing more accurate performance metrics.\n",
    "- If a new chatbot quickly gains a high number of reviews while maintaining a high rating, it may become a strong competitor to established apps like ChatGPT."
   ]
  },
  {
   "cell_type": "markdown",
   "id": "1862465b",
   "metadata": {},
   "source": [
    "## Business Question\n",
    "**Which iOS chatbots provide the best balance between high user ratings and popularity (measured by review count)?**\n",
    "\n",
    "### Understanding the Three Rankings:\n",
    "- Rating Rank: Ranks chatbots by their average user rating (higher rating = higher rank).  \n",
    "- Popularity Rank: Ranks chatbots by their total number of reviews (more reviews = higher rank).  \n",
    "- Combined Score: A combined rank of both Rating and Popularity, calculated as: combined_score = rating_rank + popularity_rank\n",
    "- A lower combined score means a stronger balance of high rating and high popularity."
   ]
  },
  {
   "cell_type": "code",
   "execution_count": 25,
   "id": "0580d60f",
   "metadata": {},
   "outputs": [
    {
     "name": "stdout",
     "output_type": "stream",
     "text": [
      "Diagnostic Query executed successfully\n"
     ]
    }
   ],
   "source": [
    "# Defining the diagnostic analytics query: Performance vs. Popularity\n",
    "sql_query_diagnostic = '''\n",
    "WITH PerformancePopularity AS (\n",
    "    SELECT \n",
    "        \"app_name\",\n",
    "        \"ratingValue\",\n",
    "        \"reviewCount\",\n",
    "        RANK() OVER (ORDER BY \"ratingValue\" DESC) AS rating_rank,\n",
    "        RANK() OVER (ORDER BY \"reviewCount\" DESC) AS popularity_rank,\n",
    "        (RANK() OVER (ORDER BY \"ratingValue\" DESC) + \n",
    "         RANK() OVER (ORDER BY \"reviewCount\" DESC)) AS combined_score\n",
    "    FROM \n",
    "        \"Chatbot iOS Apps\"\n",
    ")\n",
    "SELECT \n",
    "    \"app_name\",\n",
    "    \"ratingValue\",\n",
    "    \"reviewCount\",\n",
    "    rating_rank,\n",
    "    popularity_rank,\n",
    "    combined_score\n",
    "FROM \n",
    "    PerformancePopularity\n",
    "ORDER BY \n",
    "    combined_score ASC;  -- Lower combined score means higher combined rank\n",
    "'''\n",
    "\n",
    "# Running the diagnostic query\n",
    "try:\n",
    "    df_diagnostic = pd.read_sql(sql_query_diagnostic, con=engine)\n",
    "    print(\"Diagnostic Query executed successfully\")\n",
    "    pd.set_option('display.max_rows', None)\n",
    "    df_diagnostic.head()\n",
    "except Exception as e:\n",
    "    print(f\"Query failed: {e}\")\n"
   ]
  },
  {
   "cell_type": "code",
   "execution_count": 26,
   "id": "ba0a4787",
   "metadata": {},
   "outputs": [
    {
     "name": "stdout",
     "output_type": "stream",
     "text": [
      "Diagnostic Analysis results saved to PostgreSQL table: ios_chatbot_diagnostic_analysis\n"
     ]
    }
   ],
   "source": [
    "# Save the diagnostic analysis results as a PostgreSQL table\n",
    "try:\n",
    "    df_diagnostic.to_sql(\n",
    "        'ios_chatbot_diagnostic_analysis',  # Table name\n",
    "        con=engine,\n",
    "        if_exists='replace',\n",
    "        index=False\n",
    "    )\n",
    "    print(\"Diagnostic Analysis results saved to PostgreSQL table: ios_chatbot_diagnostic_analysis\")\n",
    "except Exception as e:\n",
    "    print(f\"Failed to save the table: {e}\")\n"
   ]
  },
  {
   "cell_type": "code",
   "execution_count": 27,
   "id": "060ad82c",
   "metadata": {},
   "outputs": [
    {
     "data": {
      "text/html": [
       "<div>\n",
       "<style scoped>\n",
       "    .dataframe tbody tr th:only-of-type {\n",
       "        vertical-align: middle;\n",
       "    }\n",
       "\n",
       "    .dataframe tbody tr th {\n",
       "        vertical-align: top;\n",
       "    }\n",
       "\n",
       "    .dataframe thead th {\n",
       "        text-align: right;\n",
       "    }\n",
       "</style>\n",
       "<table border=\"1\" class=\"dataframe\">\n",
       "  <thead>\n",
       "    <tr style=\"text-align: right;\">\n",
       "      <th></th>\n",
       "      <th>app_name</th>\n",
       "      <th>ratingValue</th>\n",
       "      <th>reviewCount</th>\n",
       "      <th>rating_rank</th>\n",
       "      <th>popularity_rank</th>\n",
       "      <th>combined_score</th>\n",
       "    </tr>\n",
       "  </thead>\n",
       "  <tbody>\n",
       "    <tr>\n",
       "      <th>0</th>\n",
       "      <td>ChatGPT</td>\n",
       "      <td>4.9</td>\n",
       "      <td>2390387</td>\n",
       "      <td>2</td>\n",
       "      <td>1</td>\n",
       "      <td>3</td>\n",
       "    </tr>\n",
       "    <tr>\n",
       "      <th>1</th>\n",
       "      <td>Grok by xAI</td>\n",
       "      <td>4.9</td>\n",
       "      <td>309764</td>\n",
       "      <td>2</td>\n",
       "      <td>3</td>\n",
       "      <td>5</td>\n",
       "    </tr>\n",
       "    <tr>\n",
       "      <th>2</th>\n",
       "      <td>Chat &amp; Ask AI by Codeway</td>\n",
       "      <td>4.8</td>\n",
       "      <td>305285</td>\n",
       "      <td>6</td>\n",
       "      <td>4</td>\n",
       "      <td>10</td>\n",
       "    </tr>\n",
       "    <tr>\n",
       "      <th>3</th>\n",
       "      <td>Google Gemini</td>\n",
       "      <td>4.8</td>\n",
       "      <td>229130</td>\n",
       "      <td>6</td>\n",
       "      <td>5</td>\n",
       "      <td>11</td>\n",
       "    </tr>\n",
       "    <tr>\n",
       "      <th>4</th>\n",
       "      <td>Perplexity - Ask Anything</td>\n",
       "      <td>4.9</td>\n",
       "      <td>169266</td>\n",
       "      <td>2</td>\n",
       "      <td>12</td>\n",
       "      <td>14</td>\n",
       "    </tr>\n",
       "  </tbody>\n",
       "</table>\n",
       "</div>"
      ],
      "text/plain": [
       "                    app_name  ratingValue  reviewCount  rating_rank  \\\n",
       "0                    ChatGPT          4.9      2390387            2   \n",
       "1                Grok by xAI          4.9       309764            2   \n",
       "2   Chat & Ask AI by Codeway          4.8       305285            6   \n",
       "3              Google Gemini          4.8       229130            6   \n",
       "4  Perplexity - Ask Anything          4.9       169266            2   \n",
       "\n",
       "   popularity_rank  combined_score  \n",
       "0                1               3  \n",
       "1                3               5  \n",
       "2                4              10  \n",
       "3                5              11  \n",
       "4               12              14  "
      ]
     },
     "execution_count": 27,
     "metadata": {},
     "output_type": "execute_result"
    }
   ],
   "source": [
    "# Displaying the saved diagnostic analysis table\n",
    "sql_query_display = '''\n",
    "SELECT * \n",
    "FROM ios_chatbot_diagnostic_analysis;\n",
    "'''\n",
    "\n",
    "# Loading the table into a DataFrame\n",
    "df_diagnostic_display = pd.read_sql(sql_query_display, con=engine)\n",
    "pd.set_option('display.max_rows', None)\n",
    "df_diagnostic_display.head()"
   ]
  },
  {
   "cell_type": "markdown",
   "id": "0b5597df",
   "metadata": {},
   "source": [
    "## Insight\n",
    "- The analysis reveals that while some chatbots maintain high ratings, they may not be widely used, while others are extremely popular but have slightly lower ratings.\n",
    "- ChatGPT consistently ranks among the top performers, with both a high rating and the highest review count (over 2.3 million).\n",
    "- Other chatbots like Perplexity - Ask Anything** and **AI Chat Assistant Ð ChatNow maintain high ratings with significant user bases, indicating strong user satisfaction and popularity.\n",
    "- Chatbots with high ratings but low review counts (like \"Ask GPT -4: Advance GPT AI Chat\") are likely newer or less well-known, and their ratings may change as they gain more users.\n",
    "\n",
    "\n",
    "## Recommendation\n",
    "- For companies looking to integrate a chatbot:\n",
    "- Prioritize chatbots with a balanced performance, like ChatGPT, Perplexity, and AI Chat Assistant Ð ChatNow, which offer high user satisfaction and have proven popularity.\n",
    "- Monitor chatbots with high ratings but low review counts as \"emerging options\" — if they maintain their ratings with more reviews, they could become strong contenders.\n",
    "- Avoid chatbots with low ratings or high review counts with poor ratings, as they indicate consistent user dissatisfaction.\n",
    "\n",
    "\n",
    "## Prediction\n",
    "- Chatbots with a high combined ranking (high rating + high review count) will continue to dominate the market as they balance quality and user trust.\n",
    "- Chatbots with high ratings but low review counts may see their ratings drop as they become more popular and receive more feedback.\n",
    "- New chatbots with strong initial ratings but low review counts may gain popularity quickly if they maintain user satisfaction."
   ]
  }
 ],
 "metadata": {
  "kernelspec": {
   "display_name": "Python 3",
   "language": "python",
   "name": "python3"
  },
  "language_info": {
   "codemirror_mode": {
    "name": "ipython",
    "version": 3
   },
   "file_extension": ".py",
   "mimetype": "text/x-python",
   "name": "python",
   "nbconvert_exporter": "python",
   "pygments_lexer": "ipython3",
   "version": "3.12.1"
  }
 },
 "nbformat": 4,
 "nbformat_minor": 5
}
