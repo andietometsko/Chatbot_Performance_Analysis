{
  "cells": [
    {
      "cell_type": "code",
      "execution_count": 14,
      "metadata": {
        "colab": {
          "base_uri": "https://localhost:8080/"
        },
        "id": "Q8t1iJxUAKYp",
        "outputId": "dd060f0d-aa63-4095-a32e-2e1340aa4da3"
      },
      "outputs": [
        {
          "name": "stdout",
          "output_type": "stream",
          "text": [
            "Requirement already satisfied: firecrawl-py in /home/codespace/.python/current/lib/python3.12/site-packages (2.5.4)\n",
            "Requirement already satisfied: pymysql in /home/codespace/.python/current/lib/python3.12/site-packages (1.1.1)\n",
            "Requirement already satisfied: requests in /home/codespace/.local/lib/python3.12/site-packages (from firecrawl-py) (2.32.3)\n",
            "Requirement already satisfied: python-dotenv in /home/codespace/.python/current/lib/python3.12/site-packages (from firecrawl-py) (1.1.0)\n",
            "Requirement already satisfied: websockets in /home/codespace/.python/current/lib/python3.12/site-packages (from firecrawl-py) (15.0.1)\n",
            "Requirement already satisfied: nest-asyncio in /home/codespace/.local/lib/python3.12/site-packages (from firecrawl-py) (1.6.0)\n",
            "Requirement already satisfied: pydantic in /home/codespace/.python/current/lib/python3.12/site-packages (from firecrawl-py) (2.11.4)\n",
            "Requirement already satisfied: aiohttp in /home/codespace/.python/current/lib/python3.12/site-packages (from firecrawl-py) (3.11.18)\n",
            "Requirement already satisfied: aiohappyeyeballs>=2.3.0 in /home/codespace/.python/current/lib/python3.12/site-packages (from aiohttp->firecrawl-py) (2.6.1)\n",
            "Requirement already satisfied: aiosignal>=1.1.2 in /home/codespace/.python/current/lib/python3.12/site-packages (from aiohttp->firecrawl-py) (1.3.2)\n",
            "Requirement already satisfied: attrs>=17.3.0 in /home/codespace/.local/lib/python3.12/site-packages (from aiohttp->firecrawl-py) (25.3.0)\n",
            "Requirement already satisfied: frozenlist>=1.1.1 in /home/codespace/.python/current/lib/python3.12/site-packages (from aiohttp->firecrawl-py) (1.6.0)\n",
            "Requirement already satisfied: multidict<7.0,>=4.5 in /home/codespace/.python/current/lib/python3.12/site-packages (from aiohttp->firecrawl-py) (6.4.3)\n",
            "Requirement already satisfied: propcache>=0.2.0 in /home/codespace/.python/current/lib/python3.12/site-packages (from aiohttp->firecrawl-py) (0.3.1)\n",
            "Requirement already satisfied: yarl<2.0,>=1.17.0 in /home/codespace/.python/current/lib/python3.12/site-packages (from aiohttp->firecrawl-py) (1.20.0)\n",
            "Requirement already satisfied: idna>=2.0 in /home/codespace/.local/lib/python3.12/site-packages (from yarl<2.0,>=1.17.0->aiohttp->firecrawl-py) (3.10)\n",
            "Requirement already satisfied: annotated-types>=0.6.0 in /home/codespace/.python/current/lib/python3.12/site-packages (from pydantic->firecrawl-py) (0.7.0)\n",
            "Requirement already satisfied: pydantic-core==2.33.2 in /home/codespace/.python/current/lib/python3.12/site-packages (from pydantic->firecrawl-py) (2.33.2)\n",
            "Requirement already satisfied: typing-extensions>=4.12.2 in /home/codespace/.local/lib/python3.12/site-packages (from pydantic->firecrawl-py) (4.12.2)\n",
            "Requirement already satisfied: typing-inspection>=0.4.0 in /home/codespace/.python/current/lib/python3.12/site-packages (from pydantic->firecrawl-py) (0.4.0)\n",
            "Requirement already satisfied: charset-normalizer<4,>=2 in /home/codespace/.local/lib/python3.12/site-packages (from requests->firecrawl-py) (3.4.1)\n",
            "Requirement already satisfied: urllib3<3,>=1.21.1 in /home/codespace/.local/lib/python3.12/site-packages (from requests->firecrawl-py) (2.3.0)\n",
            "Requirement already satisfied: certifi>=2017.4.17 in /home/codespace/.local/lib/python3.12/site-packages (from requests->firecrawl-py) (2025.1.31)\n",
            "Note: you may need to restart the kernel to use updated packages.\n"
          ]
        }
      ],
      "source": [
        "pip install firecrawl-py pymysql"
      ]
    },
    {
      "cell_type": "code",
      "execution_count": 15,
      "metadata": {},
      "outputs": [
        {
          "name": "stdout",
          "output_type": "stream",
          "text": [
            "Requirement already satisfied: psycopg2-binary in /home/codespace/.python/current/lib/python3.12/site-packages (2.9.10)\n",
            "Note: you may need to restart the kernel to use updated packages.\n"
          ]
        }
      ],
      "source": [
        "pip install psycopg2-binary\n"
      ]
    },
    {
      "cell_type": "code",
      "execution_count": 16,
      "metadata": {
        "id": "96896XceAf-L"
      },
      "outputs": [],
      "source": [
        "from firecrawl import FirecrawlApp\n",
        "import pandas as pd\n",
        "import sqlalchemy\n",
        "from sqlalchemy import create_engine"
      ]
    },
    {
      "cell_type": "code",
      "execution_count": 17,
      "metadata": {
        "id": "WjrrOnUcBBEP"
      },
      "outputs": [],
      "source": [
        "url = 'https://tech.co/news/best-ai-chatbots'"
      ]
    },
    {
      "cell_type": "code",
      "execution_count": 18,
      "metadata": {
        "id": "EnVU-XPYBHE3"
      },
      "outputs": [],
      "source": [
        "app = FirecrawlApp(api_key='fc-d2a7c7ffa9b54839a55229d8d768cf1a')"
      ]
    },
    {
      "cell_type": "code",
      "execution_count": 19,
      "metadata": {
        "id": "UpeCSDVNBZwL"
      },
      "outputs": [],
      "source": [
        "scrape_result = app.scrape_url(\n",
        "    url=url,\n",
        "    formats=['json'],\n",
        "    json_options={\n",
        "        'prompt': 'extract from the list of 13 chatbots, the chatbots name, best for, plan, createdBy, pros and cons.'\n",
        "    }\n",
        ")"
      ]
    },
    {
      "cell_type": "code",
      "execution_count": 20,
      "metadata": {
        "colab": {
          "base_uri": "https://localhost:8080/"
        },
        "id": "wqW89z1WDx9Q",
        "outputId": "69f7a126-3f5f-4a0d-e6b5-3e45d38106fc"
      },
      "outputs": [
        {
          "data": {
            "text/plain": [
              "{'chatbots': [{'name': 'ChatGPT',\n",
              "   'bestFor': 'Best AI chatbot overall (and best for image generation)',\n",
              "   'plan': '$20/month',\n",
              "   'createdBy': 'OpenAI',\n",
              "   'pros': ['Powerful LLM',\n",
              "    'Regular Updates',\n",
              "    'Create your own GPTs',\n",
              "    'Very Scaleable',\n",
              "    'Large context window'],\n",
              "   'cons': ['GPT-4 Only on Plus plan',\n",
              "    'Sometimes crashes',\n",
              "    'Phone number required',\n",
              "    'Cut-off September 2022',\n",
              "    'No real-time internet access on the free plan']},\n",
              "  {'name': 'Gemini',\n",
              "   'bestFor': 'Best AI chatbot overall for creative tasks',\n",
              "   'plan': '$20/month',\n",
              "   'createdBy': 'Google',\n",
              "   'pros': ['New LLM (Gemini)',\n",
              "    'Great at coding',\n",
              "    'Very quick & creative',\n",
              "    'Connected to internet',\n",
              "    'Free to use (for now)'],\n",
              "   'cons': ['Hallucinations common',\n",
              "    'No build-your-own chatbot tool (yet)',\n",
              "    'No customer support']},\n",
              "  {'name': 'Claude',\n",
              "   'bestFor': 'Best for large inputs/document review',\n",
              "   'plan': '$20/month',\n",
              "   'createdBy': 'Anthropic',\n",
              "   'pros': ['Industry-leading context window perfect for enterprise application',\n",
              "    'Claude Instant (lightweight)',\n",
              "    'Constitutional AI',\n",
              "    'Pay-per-token pricing for businesses',\n",
              "    'Welcoming interface'],\n",
              "   'cons': ['Not as powerful as ChatGPT',\n",
              "    'No way to make custom bots',\n",
              "    'No internet access in real-time']},\n",
              "  {'name': 'Grok',\n",
              "   'bestFor': 'Best for entertaining conversations',\n",
              "   'plan': 'N/A',\n",
              "   'createdBy': 'xAI',\n",
              "   'pros': ['Outperforms ChatGPT on some tests',\n",
              "    \"Designed to be 'humorous'\",\n",
              "    'Has real-time access to X network'],\n",
              "   'cons': ['Only available to X Premium+ subscribers',\n",
              "    'Only supports text inputs',\n",
              "    'Already being politicized']},\n",
              "  {'name': 'Writesonic',\n",
              "   'bestFor': 'Best for content creation',\n",
              "   'plan': '$13/month',\n",
              "   'createdBy': 'Writesonic',\n",
              "   'pros': ['Huge range of additional tools',\n",
              "    'Great for businesses creating content',\n",
              "    'Build-your-own chatbot tool',\n",
              "    'Connected to the internet',\n",
              "    'Image generator'],\n",
              "   'cons': [\"Pricey if you don't need content creation features\",\n",
              "    'Lack of customization options',\n",
              "    'High costs for generating lots of words']},\n",
              "  {'name': 'Llama2.ai',\n",
              "   'bestFor': 'Best open source chatbot',\n",
              "   'plan': 'N/A',\n",
              "   'createdBy': 'Meta',\n",
              "   'pros': ['Open source, so great for developers',\n",
              "    'Not as busy as ChatGPT/Bard',\n",
              "    'Run-time and token counter',\n",
              "    \"'Temperature' adjuster\"],\n",
              "   'cons': [\"Not an 'official' Llama 2 chatbot\",\n",
              "    'No internet access at present']},\n",
              "  {'name': 'Copilot',\n",
              "   'bestFor': 'Best chatbot + web search combo',\n",
              "   'plan': 'N/A',\n",
              "   'createdBy': 'Microsoft',\n",
              "   'pros': ['Web results + chatbot answer provided',\n",
              "    \"Cites website sources it's using\",\n",
              "    'Adjustable conversation style',\n",
              "    'Image and audio inputs are available',\n",
              "    'GPT-4 access'],\n",
              "   'cons': ['2,000-word cap on queries',\n",
              "    \"Sign-in required for 'longer conversations'\"]},\n",
              "  {'name': 'Perplexity AI',\n",
              "   'bestFor': 'Best for Research',\n",
              "   'plan': '$20/month',\n",
              "   'createdBy': 'Perplexity.ai',\n",
              "   'pros': ['Provides pre-set prompts',\n",
              "    'Great at source citing',\n",
              "    'Clean & simple interface',\n",
              "    \"Interesting 'Discover' tab\",\n",
              "    'Playground tool included'],\n",
              "   'cons': ['Can be slow to answer',\n",
              "    'Not suitable for coding',\n",
              "    'Pricey paid plan']},\n",
              "  {'name': 'Pi',\n",
              "   'bestFor': 'Best personal AI',\n",
              "   'plan': 'N/A',\n",
              "   'createdBy': 'Inflection',\n",
              "   'pros': ['Friendly & safe',\n",
              "    'Straightforward interface',\n",
              "    'Very quick responses'],\n",
              "   'cons': ['Not as powerful as ChatGPT', 'No real business application']},\n",
              "  {'name': 'Personal AI',\n",
              "   'bestFor': 'Best personal assistant',\n",
              "   'plan': '$400/year',\n",
              "   'createdBy': 'Human Labs Inc',\n",
              "   'pros': ['Highly customizable',\n",
              "    'Easy to train/edit',\n",
              "    'Lots of instructions'],\n",
              "   'cons': ['Long set-up time', 'Language model is small', 'Expensive plans']},\n",
              "  {'name': 'Poe',\n",
              "   'bestFor': 'Best chatbot aggregator',\n",
              "   'plan': '$19.99/month',\n",
              "   'createdBy': 'Quora',\n",
              "   'pros': ['Access to all major chatbots',\n",
              "    'Android and iOS apps',\n",
              "    'Assistant chatbot included',\n",
              "    'You can make your own AI bot'],\n",
              "   'cons': [\"Assistant isn't very advanced\",\n",
              "    'Pricey paid plans needed to access the best language models and features']},\n",
              "  {'name': 'YouChat',\n",
              "   'bestFor': 'Best Microsoft Copilot alternative',\n",
              "   'plan': 'N/A',\n",
              "   'createdBy': 'You.com',\n",
              "   'pros': ['Chatbot answer + web search',\n",
              "    \"'Research' mode available\",\n",
              "    'GPT-4 access (sign-in required)',\n",
              "    'Clear interface',\n",
              "    'Cites sources (usually)'],\n",
              "   'cons': ['Not as useful for coding/paraphrasing etc.',\n",
              "    'Free plan only has GPT-3 available']},\n",
              "  {'name': 'Character AI',\n",
              "   'bestFor': 'Great fun & generates images',\n",
              "   'plan': 'N/A',\n",
              "   'createdBy': 'Character AI',\n",
              "   'pros': ['Some characters generate images',\n",
              "    'highly customizable',\n",
              "    'Users can make their own characters',\n",
              "    'You can use chatbots made by other people'],\n",
              "   'cons': ['Some data privacy concerns',\n",
              "    \"Chatbots aren't very advanced\",\n",
              "    'Not suitable for work tasks']}]}"
            ]
          },
          "execution_count": 20,
          "metadata": {},
          "output_type": "execute_result"
        }
      ],
      "source": [
        "scrape_result.json"
      ]
    },
    {
      "cell_type": "code",
      "execution_count": 21,
      "metadata": {
        "id": "PBWiteC4IqiD"
      },
      "outputs": [],
      "source": [
        "chatbots = scrape_result.json"
      ]
    },
    {
      "cell_type": "code",
      "execution_count": 22,
      "metadata": {
        "id": "M29Cwbwmayus"
      },
      "outputs": [],
      "source": [
        "df = pd.json_normalize(chatbots['chatbots'])"
      ]
    },
    {
      "cell_type": "code",
      "execution_count": 23,
      "metadata": {
        "colab": {
          "base_uri": "https://localhost:8080/",
          "height": 908
        },
        "id": "NQH0jQI7a-CD",
        "outputId": "a3f2a9d5-c1db-46ae-b344-4972f8351e8c"
      },
      "outputs": [
        {
          "data": {
            "text/html": [
              "<div>\n",
              "<style scoped>\n",
              "    .dataframe tbody tr th:only-of-type {\n",
              "        vertical-align: middle;\n",
              "    }\n",
              "\n",
              "    .dataframe tbody tr th {\n",
              "        vertical-align: top;\n",
              "    }\n",
              "\n",
              "    .dataframe thead th {\n",
              "        text-align: right;\n",
              "    }\n",
              "</style>\n",
              "<table border=\"1\" class=\"dataframe\">\n",
              "  <thead>\n",
              "    <tr style=\"text-align: right;\">\n",
              "      <th></th>\n",
              "      <th>name</th>\n",
              "      <th>bestFor</th>\n",
              "      <th>plan</th>\n",
              "      <th>createdBy</th>\n",
              "      <th>pros</th>\n",
              "      <th>cons</th>\n",
              "    </tr>\n",
              "  </thead>\n",
              "  <tbody>\n",
              "    <tr>\n",
              "      <th>0</th>\n",
              "      <td>ChatGPT</td>\n",
              "      <td>Best AI chatbot overall (and best for image ge...</td>\n",
              "      <td>$20/month</td>\n",
              "      <td>OpenAI</td>\n",
              "      <td>[Powerful LLM, Regular Updates, Create your ow...</td>\n",
              "      <td>[GPT-4 Only on Plus plan, Sometimes crashes, P...</td>\n",
              "    </tr>\n",
              "    <tr>\n",
              "      <th>1</th>\n",
              "      <td>Gemini</td>\n",
              "      <td>Best AI chatbot overall for creative tasks</td>\n",
              "      <td>$20/month</td>\n",
              "      <td>Google</td>\n",
              "      <td>[New LLM (Gemini), Great at coding, Very quick...</td>\n",
              "      <td>[Hallucinations common, No build-your-own chat...</td>\n",
              "    </tr>\n",
              "    <tr>\n",
              "      <th>2</th>\n",
              "      <td>Claude</td>\n",
              "      <td>Best for large inputs/document review</td>\n",
              "      <td>$20/month</td>\n",
              "      <td>Anthropic</td>\n",
              "      <td>[Industry-leading context window perfect for e...</td>\n",
              "      <td>[Not as powerful as ChatGPT, No way to make cu...</td>\n",
              "    </tr>\n",
              "    <tr>\n",
              "      <th>3</th>\n",
              "      <td>Grok</td>\n",
              "      <td>Best for entertaining conversations</td>\n",
              "      <td>N/A</td>\n",
              "      <td>xAI</td>\n",
              "      <td>[Outperforms ChatGPT on some tests, Designed t...</td>\n",
              "      <td>[Only available to X Premium+ subscribers, Onl...</td>\n",
              "    </tr>\n",
              "    <tr>\n",
              "      <th>4</th>\n",
              "      <td>Writesonic</td>\n",
              "      <td>Best for content creation</td>\n",
              "      <td>$13/month</td>\n",
              "      <td>Writesonic</td>\n",
              "      <td>[Huge range of additional tools, Great for bus...</td>\n",
              "      <td>[Pricey if you don't need content creation fea...</td>\n",
              "    </tr>\n",
              "    <tr>\n",
              "      <th>5</th>\n",
              "      <td>Llama2.ai</td>\n",
              "      <td>Best open source chatbot</td>\n",
              "      <td>N/A</td>\n",
              "      <td>Meta</td>\n",
              "      <td>[Open source, so great for developers, Not as ...</td>\n",
              "      <td>[Not an 'official' Llama 2 chatbot, No interne...</td>\n",
              "    </tr>\n",
              "    <tr>\n",
              "      <th>6</th>\n",
              "      <td>Copilot</td>\n",
              "      <td>Best chatbot + web search combo</td>\n",
              "      <td>N/A</td>\n",
              "      <td>Microsoft</td>\n",
              "      <td>[Web results + chatbot answer provided, Cites ...</td>\n",
              "      <td>[2,000-word cap on queries, Sign-in required f...</td>\n",
              "    </tr>\n",
              "    <tr>\n",
              "      <th>7</th>\n",
              "      <td>Perplexity AI</td>\n",
              "      <td>Best for Research</td>\n",
              "      <td>$20/month</td>\n",
              "      <td>Perplexity.ai</td>\n",
              "      <td>[Provides pre-set prompts, Great at source cit...</td>\n",
              "      <td>[Can be slow to answer, Not suitable for codin...</td>\n",
              "    </tr>\n",
              "    <tr>\n",
              "      <th>8</th>\n",
              "      <td>Pi</td>\n",
              "      <td>Best personal AI</td>\n",
              "      <td>N/A</td>\n",
              "      <td>Inflection</td>\n",
              "      <td>[Friendly &amp; safe, Straightforward interface, V...</td>\n",
              "      <td>[Not as powerful as ChatGPT, No real business ...</td>\n",
              "    </tr>\n",
              "    <tr>\n",
              "      <th>9</th>\n",
              "      <td>Personal AI</td>\n",
              "      <td>Best personal assistant</td>\n",
              "      <td>$400/year</td>\n",
              "      <td>Human Labs Inc</td>\n",
              "      <td>[Highly customizable, Easy to train/edit, Lots...</td>\n",
              "      <td>[Long set-up time, Language model is small, Ex...</td>\n",
              "    </tr>\n",
              "    <tr>\n",
              "      <th>10</th>\n",
              "      <td>Poe</td>\n",
              "      <td>Best chatbot aggregator</td>\n",
              "      <td>$19.99/month</td>\n",
              "      <td>Quora</td>\n",
              "      <td>[Access to all major chatbots, Android and iOS...</td>\n",
              "      <td>[Assistant isn't very advanced, Pricey paid pl...</td>\n",
              "    </tr>\n",
              "    <tr>\n",
              "      <th>11</th>\n",
              "      <td>YouChat</td>\n",
              "      <td>Best Microsoft Copilot alternative</td>\n",
              "      <td>N/A</td>\n",
              "      <td>You.com</td>\n",
              "      <td>[Chatbot answer + web search, 'Research' mode ...</td>\n",
              "      <td>[Not as useful for coding/paraphrasing etc., F...</td>\n",
              "    </tr>\n",
              "    <tr>\n",
              "      <th>12</th>\n",
              "      <td>Character AI</td>\n",
              "      <td>Great fun &amp; generates images</td>\n",
              "      <td>N/A</td>\n",
              "      <td>Character AI</td>\n",
              "      <td>[Some characters generate images, highly custo...</td>\n",
              "      <td>[Some data privacy concerns, Chatbots aren't v...</td>\n",
              "    </tr>\n",
              "  </tbody>\n",
              "</table>\n",
              "</div>"
            ],
            "text/plain": [
              "             name                                            bestFor  \\\n",
              "0         ChatGPT  Best AI chatbot overall (and best for image ge...   \n",
              "1          Gemini         Best AI chatbot overall for creative tasks   \n",
              "2          Claude              Best for large inputs/document review   \n",
              "3            Grok                Best for entertaining conversations   \n",
              "4      Writesonic                          Best for content creation   \n",
              "5       Llama2.ai                           Best open source chatbot   \n",
              "6         Copilot                    Best chatbot + web search combo   \n",
              "7   Perplexity AI                                  Best for Research   \n",
              "8              Pi                                   Best personal AI   \n",
              "9     Personal AI                            Best personal assistant   \n",
              "10            Poe                            Best chatbot aggregator   \n",
              "11        YouChat                 Best Microsoft Copilot alternative   \n",
              "12   Character AI                       Great fun & generates images   \n",
              "\n",
              "            plan       createdBy  \\\n",
              "0      $20/month          OpenAI   \n",
              "1      $20/month          Google   \n",
              "2      $20/month       Anthropic   \n",
              "3            N/A             xAI   \n",
              "4      $13/month      Writesonic   \n",
              "5            N/A            Meta   \n",
              "6            N/A       Microsoft   \n",
              "7      $20/month   Perplexity.ai   \n",
              "8            N/A      Inflection   \n",
              "9      $400/year  Human Labs Inc   \n",
              "10  $19.99/month           Quora   \n",
              "11           N/A         You.com   \n",
              "12           N/A    Character AI   \n",
              "\n",
              "                                                 pros  \\\n",
              "0   [Powerful LLM, Regular Updates, Create your ow...   \n",
              "1   [New LLM (Gemini), Great at coding, Very quick...   \n",
              "2   [Industry-leading context window perfect for e...   \n",
              "3   [Outperforms ChatGPT on some tests, Designed t...   \n",
              "4   [Huge range of additional tools, Great for bus...   \n",
              "5   [Open source, so great for developers, Not as ...   \n",
              "6   [Web results + chatbot answer provided, Cites ...   \n",
              "7   [Provides pre-set prompts, Great at source cit...   \n",
              "8   [Friendly & safe, Straightforward interface, V...   \n",
              "9   [Highly customizable, Easy to train/edit, Lots...   \n",
              "10  [Access to all major chatbots, Android and iOS...   \n",
              "11  [Chatbot answer + web search, 'Research' mode ...   \n",
              "12  [Some characters generate images, highly custo...   \n",
              "\n",
              "                                                 cons  \n",
              "0   [GPT-4 Only on Plus plan, Sometimes crashes, P...  \n",
              "1   [Hallucinations common, No build-your-own chat...  \n",
              "2   [Not as powerful as ChatGPT, No way to make cu...  \n",
              "3   [Only available to X Premium+ subscribers, Onl...  \n",
              "4   [Pricey if you don't need content creation fea...  \n",
              "5   [Not an 'official' Llama 2 chatbot, No interne...  \n",
              "6   [2,000-word cap on queries, Sign-in required f...  \n",
              "7   [Can be slow to answer, Not suitable for codin...  \n",
              "8   [Not as powerful as ChatGPT, No real business ...  \n",
              "9   [Long set-up time, Language model is small, Ex...  \n",
              "10  [Assistant isn't very advanced, Pricey paid pl...  \n",
              "11  [Not as useful for coding/paraphrasing etc., F...  \n",
              "12  [Some data privacy concerns, Chatbots aren't v...  "
            ]
          },
          "execution_count": 23,
          "metadata": {},
          "output_type": "execute_result"
        }
      ],
      "source": [
        "df"
      ]
    },
    {
      "cell_type": "code",
      "execution_count": 24,
      "metadata": {
        "id": "IUBxkqjIKJhA"
      },
      "outputs": [],
      "source": [
        "user = 'postgres'\n",
        "password = 'isba_4715'\n",
        "host = 'isba-dev-02.cxcoakgsc7ha.us-east-1.rds.amazonaws.com'\n",
        "port = 5432\n",
        "database = 'postgres'\n",
        "\n",
        "\n",
        "engine = create_engine(f'postgresql+psycopg2://{user}:{password}@{host}:{port}/{database}')"
      ]
    },
    {
      "cell_type": "code",
      "execution_count": 25,
      "metadata": {
        "colab": {
          "base_uri": "https://localhost:8080/"
        },
        "id": "xtggcBM9KVRn",
        "outputId": "aa9f1608-31aa-40bf-9243-2b3dfc9422cd"
      },
      "outputs": [
        {
          "data": {
            "text/plain": [
              "13"
            ]
          },
          "execution_count": 25,
          "metadata": {},
          "output_type": "execute_result"
        }
      ],
      "source": [
        "df.to_sql(name= '13 Best Free and Paid AI Chatbots', con=engine, if_exists='replace', index=False)"
      ]
    }
  ],
  "metadata": {
    "colab": {
      "history_visible": true,
      "provenance": []
    },
    "kernelspec": {
      "display_name": "Python 3",
      "name": "python3"
    },
    "language_info": {
      "codemirror_mode": {
        "name": "ipython",
        "version": 3
      },
      "file_extension": ".py",
      "mimetype": "text/x-python",
      "name": "python",
      "nbconvert_exporter": "python",
      "pygments_lexer": "ipython3",
      "version": "3.12.1"
    }
  },
  "nbformat": 4,
  "nbformat_minor": 0
}
