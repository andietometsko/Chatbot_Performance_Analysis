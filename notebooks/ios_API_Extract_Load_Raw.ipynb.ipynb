{
 "cells": [
  {
   "cell_type": "code",
   "execution_count": 30,
   "id": "d1837196-3dc7-499d-bb72-f8070f59e14b",
   "metadata": {},
   "outputs": [
    {
     "name": "stdout",
     "output_type": "stream",
     "text": [
      "Requirement already satisfied: requests in /opt/anaconda3/lib/python3.12/site-packages (2.32.3)\n",
      "Requirement already satisfied: pandas in /opt/anaconda3/lib/python3.12/site-packages (2.2.2)\n",
      "Requirement already satisfied: sqlalchemy in /opt/anaconda3/lib/python3.12/site-packages (2.0.34)\n",
      "Requirement already satisfied: psycopg2-binary in /opt/anaconda3/lib/python3.12/site-packages (2.9.10)\n",
      "Requirement already satisfied: python-dotenv in /opt/anaconda3/lib/python3.12/site-packages (0.21.0)\n",
      "Requirement already satisfied: charset-normalizer<4,>=2 in /opt/anaconda3/lib/python3.12/site-packages (from requests) (3.3.2)\n",
      "Requirement already satisfied: idna<4,>=2.5 in /opt/anaconda3/lib/python3.12/site-packages (from requests) (3.7)\n",
      "Requirement already satisfied: urllib3<3,>=1.21.1 in /opt/anaconda3/lib/python3.12/site-packages (from requests) (2.2.3)\n",
      "Requirement already satisfied: certifi>=2017.4.17 in /opt/anaconda3/lib/python3.12/site-packages (from requests) (2024.8.30)\n",
      "Requirement already satisfied: numpy>=1.26.0 in /opt/anaconda3/lib/python3.12/site-packages (from pandas) (1.26.4)\n",
      "Requirement already satisfied: python-dateutil>=2.8.2 in /opt/anaconda3/lib/python3.12/site-packages (from pandas) (2.9.0.post0)\n",
      "Requirement already satisfied: pytz>=2020.1 in /opt/anaconda3/lib/python3.12/site-packages (from pandas) (2024.1)\n",
      "Requirement already satisfied: tzdata>=2022.7 in /opt/anaconda3/lib/python3.12/site-packages (from pandas) (2023.3)\n",
      "Requirement already satisfied: typing-extensions>=4.6.0 in /opt/anaconda3/lib/python3.12/site-packages (from sqlalchemy) (4.11.0)\n",
      "Requirement already satisfied: six>=1.5 in /opt/anaconda3/lib/python3.12/site-packages (from python-dateutil>=2.8.2->pandas) (1.16.0)\n",
      "Note: you may need to restart the kernel to use updated packages.\n"
     ]
    }
   ],
   "source": [
    "pip install requests pandas sqlalchemy psycopg2-binary python-dotenv"
   ]
  },
  {
   "cell_type": "code",
   "execution_count": null,
   "id": "f1c9f353-c2ce-44d4-8bbb-30e11424b7c6",
   "metadata": {},
   "outputs": [],
   "source": [
    "import requests\n",
    "import os\n",
    "import pandas as pd\n",
    "from dotenv import load_dotenv\n",
    "from time import sleep\n",
    "\n",
    "load_dotenv()\n",
    "api_key = os.getenv(\"RAPIDAPI_KEY\")\n",
    "\n",
    "details_url = \"https://ios-app-store-api1.p.rapidapi.com/details.php\"\n",
    "\n",
    "headers = {\n",
    "    \"X-RapidAPI-Key\": \"b173500eacmshf746569418243a8p147f18jsnad83cb36e882\",\n",
    "    \"X-RapidAPI-Host\": \"ios-app-store-api1.p.rapidapi.com\"\n",
    "}\n",
    "\n",
    "# 🔗 List of App Store URLs (add more as needed)\n",
    "app_urls = [\n",
    "    \"https://apps.apple.com/us/app/google/id284815942\",\n",
    "    \"https://apps.apple.com/us/app/microsoft-outlook/id951937596\",\n",
    "    \"https://apps.apple.com/us/app/zoom-one-platform-to-connect/id546505307\"\n",
    "]\n",
    "\n",
    "apps_data = []\n",
    "\n",
    "for url in app_urls:\n",
    "    params = {\"url\": url}\n",
    "    response = requests.get(details_url, headers=headers, params=params)\n",
    "\n",
    "    if response.status_code == 200:\n",
    "        app_details = response.json()\n",
    "        print(\"✅ Fetched:\", app_details.get(\"appName\", \"Unnamed App\"))\n",
    "        apps_data.append(app_details)\n",
    "        print(f\"Total apps fetched: {len(apps_data)}\")\n",
    "        sleep(0.5)  # respectful delay\n",
    "    else:\n",
    "        print(f\"Failed to fetch: {url}\")\n",
    "\n",
    "# 📊 Normalize and extract relevant fields\n",
    "if apps_data:\n",
    "    df_raw = pd.json_normalize(apps_data)\n",
    "\n",
    "    df = df_raw[[\n",
    "        'appName',\n",
    "        'description',\n",
    "        'offers.category',\n",
    "        'rating.ratingValue',\n",
    "        'rating.reviewCount'\n",
    "    ]].copy()\n",
    "\n",
    "    df.columns = ['AppName', 'Description', 'Category', 'Rating', 'ReviewCount']\n",
    "    print(df.head())\n",
    "else:\n",
    "    print(\"⚠️ No app data was fetched.\")\n",
    "    print(response.status_code, response.text)\n"
   ]
  },
  {
   "cell_type": "code",
   "execution_count": 16,
   "id": "661a34fb-99a0-47d0-92ac-db33cda24034",
   "metadata": {},
   "outputs": [],
   "source": [
    "apps = data"
   ]
  },
  {
   "cell_type": "code",
   "execution_count": 17,
   "id": "8df1ee32-525a-4612-b4d4-e136e828b0a0",
   "metadata": {},
   "outputs": [
    {
     "data": {
      "text/plain": [
       "['appName',\n",
       " 'icon',\n",
       " 'description',\n",
       " 'screenshot',\n",
       " 'author.@type',\n",
       " 'author.name',\n",
       " 'author.url',\n",
       " 'rating.@type',\n",
       " 'rating.ratingValue',\n",
       " 'rating.reviewCount',\n",
       " 'offers.@type',\n",
       " 'offers.price',\n",
       " 'offers.priceCurrency',\n",
       " 'offers.category']"
      ]
     },
     "execution_count": 17,
     "metadata": {},
     "output_type": "execute_result"
    }
   ],
   "source": [
    "df_raw = pd.json_normalize(apps)\n",
    "df_raw.columns.to_list()"
   ]
  },
  {
   "cell_type": "code",
   "execution_count": 21,
   "id": "5da14c20-e4df-468b-9c19-3aab42308c33",
   "metadata": {},
   "outputs": [
    {
     "data": {
      "text/html": [
       "<div>\n",
       "<style scoped>\n",
       "    .dataframe tbody tr th:only-of-type {\n",
       "        vertical-align: middle;\n",
       "    }\n",
       "\n",
       "    .dataframe tbody tr th {\n",
       "        vertical-align: top;\n",
       "    }\n",
       "\n",
       "    .dataframe thead th {\n",
       "        text-align: right;\n",
       "    }\n",
       "</style>\n",
       "<table border=\"1\" class=\"dataframe\">\n",
       "  <thead>\n",
       "    <tr style=\"text-align: right;\">\n",
       "      <th></th>\n",
       "      <th>AppName</th>\n",
       "      <th>Description</th>\n",
       "      <th>Category</th>\n",
       "      <th>Rating</th>\n",
       "      <th>ReviewCount</th>\n",
       "    </tr>\n",
       "  </thead>\n",
       "  <tbody>\n",
       "    <tr>\n",
       "      <th>0</th>\n",
       "      <td>Google</td>\n",
       "      <td>Download the Google app to stay in the know ab...</td>\n",
       "      <td>free</td>\n",
       "      <td>4.6</td>\n",
       "      <td>2877683</td>\n",
       "    </tr>\n",
       "  </tbody>\n",
       "</table>\n",
       "</div>"
      ],
      "text/plain": [
       "  AppName                                        Description Category  Rating  \\\n",
       "0  Google  Download the Google app to stay in the know ab...     free     4.6   \n",
       "\n",
       "   ReviewCount  \n",
       "0      2877683  "
      ]
     },
     "execution_count": 21,
     "metadata": {},
     "output_type": "execute_result"
    }
   ],
   "source": [
    "df = df_raw[[\n",
    "    'appName',\n",
    "    'description',\n",
    "    'offers.category',\n",
    "    'rating.ratingValue',\n",
    "    'rating.reviewCount'\n",
    "]].copy()\n",
    "\n",
    "# Optional: rename for clarity\n",
    "df.columns = ['AppName', 'Description', 'Category', 'Rating', 'ReviewCount']\n",
    "\n",
    "# Preview the cleaned dataset\n",
    "df.head()"
   ]
  },
  {
   "cell_type": "code",
   "execution_count": 22,
   "id": "9001e2af-5f25-479c-9e92-5b488b8a265c",
   "metadata": {
    "scrolled": true
   },
   "outputs": [
    {
     "data": {
      "text/html": [
       "<div>\n",
       "<style scoped>\n",
       "    .dataframe tbody tr th:only-of-type {\n",
       "        vertical-align: middle;\n",
       "    }\n",
       "\n",
       "    .dataframe tbody tr th {\n",
       "        vertical-align: top;\n",
       "    }\n",
       "\n",
       "    .dataframe thead th {\n",
       "        text-align: right;\n",
       "    }\n",
       "</style>\n",
       "<table border=\"1\" class=\"dataframe\">\n",
       "  <thead>\n",
       "    <tr style=\"text-align: right;\">\n",
       "      <th></th>\n",
       "      <th>AppName</th>\n",
       "      <th>Description</th>\n",
       "      <th>Category</th>\n",
       "      <th>Rating</th>\n",
       "      <th>ReviewCount</th>\n",
       "    </tr>\n",
       "  </thead>\n",
       "  <tbody>\n",
       "    <tr>\n",
       "      <th>0</th>\n",
       "      <td>Google</td>\n",
       "      <td>Download the Google app to stay in the know about things that matter to you. Try AI Overviews, find quick answers, explore your interests, and stay up to date with Discover. The more you use the Google app, the more it’s tailored to you.\\n\\nFeature highlights:\\n\\n• Image Search: See something you like? Snap a photo and discover where to shop for it, find related images, and more. Refine your camera searches by adding words – whether you want those shoes but in ‘blue’, or want to learn how to ‘repair’ that broken bit on your bicycle.\\n• Hum to Search: Can't remember the name of that song? Hum the tune and the Google app will identify it for you.\\n• Discover: Stay up-to-date on topics that matter to you. Get personalized news, articles, and videos based on your interests and search history.\\n• Try AI Overviews: We’re making search smarter and simpler with generative AI. Try searching things like ‘how to cut onions without crying’ or ‘how to fix a broken zipper’ and AI Overviews will find what you’re looking for in faster, easier ways.\\n• Google Search Widget: Search from your home screen or lock screen with the new Google widget. Choose from 2 widgets, giving you a quick search bar in both sizes, and shortcuts to choose how you Search with Lens, Voice, and Incognito in the medium size widget.\\n\\nSearch what you see with Google Lens:\\n\\n• Use your camera to identify what you’re looking at. Identify plants and animals, translate text in real-time, find similar products to buy, and even solve math problems with step-by-step guides.\\n• Translate over 100 languages on things like road signs when you travel, menus, and more by pointing your camera at text.\\n• Reverse image search: Find the source, similar photos, and related information for any image.\\n• Socratic app functionalities like step-by-step homework help on math, physics and word problems, and testing your knowledge with Questions and Answers are now fully supported within the Google app.\\n\\n\\nGet personalized updates in Discover:\\n\\n• Stay in the know about topics that interest you.\\n• Start your morning with weather and top news.\\n• Get real-time updates on sports, movies, and events.\\n• Know as soon as your favorite artists drop new albums.\\n• Get stories about your interests and hobbies.\\n• Follow interesting topics, right from Search results.\\n\\nSearch safely and securely:\\n\\n• All searches in the Google app are protected by encrypting the connection between your device and Google.\\n• Privacy controls are easy to find and use. Tap your profile picture to access your menu and delete recent search history from your account with one click.\\n• Search proactively filters webspam to help ensure that you see safe, high-quality results.\\n\\n\\nLearn more about what the Google app can do for you: https://search.google/\\n\\nPrivacy policy: https://www.google.com/policies/privacy\\n\\nYour feedback helps us create products you'll love. Join a user research study here:\\nhttps://goo.gl/kKQn99</td>\n",
       "      <td>free</td>\n",
       "      <td>4.6</td>\n",
       "      <td>2877683</td>\n",
       "    </tr>\n",
       "  </tbody>\n",
       "</table>\n",
       "</div>"
      ],
      "text/plain": [
       "  AppName  \\\n",
       "0  Google   \n",
       "\n",
       "                                                                                                                                                                                                                                                                                                                                                                                                                                                                                                                                                                                                                                                                                                                                                                                                                                                                                                                                                                                                                                                                                                                                                                                                                                                                                                                                                                                                                                                                                                                                                                                                                                                                                                                                                                                                                                                                                                                                                                                                                                                                                                                                                                                                                                                                                                                                                                                                                                                                                                                                                                                                                                                                                                                                                                                                                                                                                                                                                                                                                                                                                                 Description  \\\n",
       "0  Download the Google app to stay in the know about things that matter to you. Try AI Overviews, find quick answers, explore your interests, and stay up to date with Discover. The more you use the Google app, the more it’s tailored to you.\\n\\nFeature highlights:\\n\\n• Image Search: See something you like? Snap a photo and discover where to shop for it, find related images, and more. Refine your camera searches by adding words – whether you want those shoes but in ‘blue’, or want to learn how to ‘repair’ that broken bit on your bicycle.\\n• Hum to Search: Can't remember the name of that song? Hum the tune and the Google app will identify it for you.\\n• Discover: Stay up-to-date on topics that matter to you. Get personalized news, articles, and videos based on your interests and search history.\\n• Try AI Overviews: We’re making search smarter and simpler with generative AI. Try searching things like ‘how to cut onions without crying’ or ‘how to fix a broken zipper’ and AI Overviews will find what you’re looking for in faster, easier ways.\\n• Google Search Widget: Search from your home screen or lock screen with the new Google widget. Choose from 2 widgets, giving you a quick search bar in both sizes, and shortcuts to choose how you Search with Lens, Voice, and Incognito in the medium size widget.\\n\\nSearch what you see with Google Lens:\\n\\n• Use your camera to identify what you’re looking at. Identify plants and animals, translate text in real-time, find similar products to buy, and even solve math problems with step-by-step guides.\\n• Translate over 100 languages on things like road signs when you travel, menus, and more by pointing your camera at text.\\n• Reverse image search: Find the source, similar photos, and related information for any image.\\n• Socratic app functionalities like step-by-step homework help on math, physics and word problems, and testing your knowledge with Questions and Answers are now fully supported within the Google app.\\n\\n\\nGet personalized updates in Discover:\\n\\n• Stay in the know about topics that interest you.\\n• Start your morning with weather and top news.\\n• Get real-time updates on sports, movies, and events.\\n• Know as soon as your favorite artists drop new albums.\\n• Get stories about your interests and hobbies.\\n• Follow interesting topics, right from Search results.\\n\\nSearch safely and securely:\\n\\n• All searches in the Google app are protected by encrypting the connection between your device and Google.\\n• Privacy controls are easy to find and use. Tap your profile picture to access your menu and delete recent search history from your account with one click.\\n• Search proactively filters webspam to help ensure that you see safe, high-quality results.\\n\\n\\nLearn more about what the Google app can do for you: https://search.google/\\n\\nPrivacy policy: https://www.google.com/policies/privacy\\n\\nYour feedback helps us create products you'll love. Join a user research study here:\\nhttps://goo.gl/kKQn99   \n",
       "\n",
       "  Category  Rating  ReviewCount  \n",
       "0     free     4.6      2877683  "
      ]
     },
     "execution_count": 22,
     "metadata": {},
     "output_type": "execute_result"
    }
   ],
   "source": [
    "pd.set_option('display.max_rows', 100)  # or any number you want\n",
    "pd.set_option('display.max_colwidth', None)\n",
    "df.head(50)  # or df.tail(20), or df.sample(10)"
   ]
  },
  {
   "cell_type": "code",
   "execution_count": null,
   "id": "9e6ae013-bc8c-4425-bbc3-81c833ab74ec",
   "metadata": {},
   "outputs": [],
   "source": []
  }
 ],
 "metadata": {
  "kernelspec": {
   "display_name": "Python 3 (ipykernel)",
   "language": "python",
   "name": "python3"
  },
  "language_info": {
   "codemirror_mode": {
    "name": "ipython",
    "version": 3
   },
   "file_extension": ".py",
   "mimetype": "text/x-python",
   "name": "python",
   "nbconvert_exporter": "python",
   "pygments_lexer": "ipython3",
   "version": "3.12.7"
  }
 },
 "nbformat": 4,
 "nbformat_minor": 5
}
